{
 "cells": [
  {
   "attachments": {},
   "cell_type": "markdown",
   "metadata": {},
   "source": [
    "Question 1: Count the occurrences of each base and visualized it into a barplot"
   ]
  },
  {
   "cell_type": "code",
   "execution_count": 2,
   "metadata": {},
   "outputs": [
    {
     "name": "stdout",
     "output_type": "stream",
     "text": [
      "{'A': 63, 'T': 55, 'G': 21, 'C': 63}\n"
     ]
    },
    {
     "data": {
      "image/png": "[encoded data removed]",
      "text/plain": [
       "<Figure size 640x480 with 1 Axes>"
      ]
     },
     "metadata": {},
     "output_type": "display_data"
    }
   ],
   "source": [
    "dna = \"CCCTACTTCACTCCAGTACTATAGTAGTAGCTGGGGTTTTCTTACTTATTCGCTTCCACCCACCAATAGAAAATAATACAACAATTCAAAGTCTTACACTATGCCTAGGAGCTATTACTACCATATTCATAGCAATCTGCGCCCTAACACAAAATGACATTAAAAAAATTGTAGCCTTCTCTACCTCAA\"\n",
    "base_count = {\"A\" : dna.count(\"A\"),\n",
    "              \"T\" : dna.count(\"T\"),\n",
    "              \"G\" : dna.count(\"G\"),\n",
    "              \"C\" : dna.count(\"A\")}\n",
    "print(base_count)\n",
    "\n",
    "import matplotlib.pyplot as plt \n",
    "x = base_count.keys()\n",
    "y = base_count.values()\n",
    "\n",
    "plt.bar(x,y)\n",
    "plt.xlabel(\"Base\")\n",
    "plt.ylabel(\"Count\")\n",
    "plt.title(\"DNA Base Count\")\n",
    "plt.yticks([])\n",
    "plt.show()"
   ]
  },
  {
   "attachments": {},
   "cell_type": "markdown",
   "metadata": {},
   "source": [
    "Question 2: Create the reverse complement of DNA string"
   ]
  },
  {
   "cell_type": "code",
   "execution_count": 3,
   "metadata": {},
   "outputs": [
    {
     "name": "stdout",
     "output_type": "stream",
     "text": [
      "AATAATGGGTATTATGATACCATCTTTGGGGATTATGGGAAAGAAGAGGTGGGTGGAGGTGTCAAGGGTGGTGTGTGAAATAAATTTTTATTAGTTGAGAAAACGACAGTTG\n"
     ]
    }
   ],
   "source": [
    "def reverse_complement(x):\n",
    "    base_pair = {\"A\":\"T\",\"T\":\"A\",\"G\":\"C\",\"C\":\"G\"}\n",
    "    result = \"\"\n",
    "    for i in reversed(x):\n",
    "        complement_base = base_pair[i]\n",
    "        result += complement_base\n",
    "    return result\n",
    "seq = \"CAACTGTCGTTTTCTCAACTAATAAAAATTTATTTCACACACCACCCTTGACACCTCCACCCACCTCTTCTTTCCCATAATCCCCAAAGATGGTATCATAATACCCATTATT\"\n",
    "print(reverse_complement(seq))"
   ]
  },
  {
   "attachments": {},
   "cell_type": "markdown",
   "metadata": {},
   "source": [
    "Question 3: Detect differences between these strings, and specify the adjustment: position (0-based):reference:adjustment"
   ]
  },
  {
   "cell_type": "code",
   "execution_count": 4,
   "metadata": {},
   "outputs": [
    {
     "name": "stdout",
     "output_type": "stream",
     "text": [
      "Số điểm khác biệt là :  3\n",
      "8  :  T  :  C\n",
      "35  :  T  :  A\n",
      "63  :  C  :  G\n"
     ]
    }
   ],
   "source": [
    "ref = \"CGCCCATATCACTCGAGACGTAAACTACGGCTGAATTATCCGCTACCTTCATGCCAATGGTGCCTCCATATTCTTTATCTGC\"\n",
    "target_dna = \"CGCCCATACCACTCGAGACGTAAACTACGGCTGAAATATCCGCTACCTTCATGCCAATGGTGCGTCCATATTCTTTATCTGC\"\n",
    "dif = 0\n",
    "for x,y in zip(ref,target_dna):\n",
    "    if x!=y:\n",
    "        dif += 1\n",
    "print(\"Số điểm khác biệt là : \",dif)\n",
    "for x,(y,z) in enumerate(zip(ref,target_dna)):\n",
    "    if y!=z:\n",
    "        print(x,\" : \",y,\" : \",z)"
   ]
  }
 ],
 "metadata": {
  "kernelspec": {
   "display_name": "Python 3",
   "language": "python",
   "name": "python3"
  },
  "language_info": {
   "codemirror_mode": {
    "name": "ipython",
    "version": 3
   },
   "file_extension": ".py",
   "mimetype": "text/x-python",
   "name": "python",
   "nbconvert_exporter": "python",
   "pygments_lexer": "ipython3",
   "version": "3.11.2"
  },
  "orig_nbformat": 4
 },
 "nbformat": 4,
 "nbformat_minor": 2
}
